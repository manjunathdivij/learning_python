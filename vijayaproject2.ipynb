{
  "nbformat": 4,
  "nbformat_minor": 0,
  "metadata": {
    "colab": {
      "provenance": [],
      "authorship_tag": "ABX9TyOXj8DbBill5O/zZAkF6B7U",
      "include_colab_link": true
    },
    "kernelspec": {
      "name": "python3",
      "display_name": "Python 3"
    },
    "language_info": {
      "name": "python"
    }
  },
  "cells": [
    {
      "cell_type": "markdown",
      "metadata": {
        "id": "view-in-github",
        "colab_type": "text"
      },
      "source": [
        "<a href=\"https://colab.research.google.com/github/manjunathdivij/learning_python/blob/main/vijayaproject2.ipynb\" target=\"_parent\"><img src=\"https://colab.research.google.com/assets/colab-badge.svg\" alt=\"Open In Colab\"/></a>"
      ]
    },
    {
      "cell_type": "code",
      "execution_count": null,
      "metadata": {
        "colab": {
          "base_uri": "https://localhost:8080/"
        },
        "id": "xj8RaIUlL5Z2",
        "outputId": "00f1e81c-bf1d-48aa-da39-1d288abe1d95"
      },
      "outputs": [
        {
          "output_type": "execute_result",
          "data": {
            "text/plain": [
              "('l', 'banana', 'cherry')"
            ]
          },
          "metadata": {},
          "execution_count": 18
        }
      ],
      "source": [
        "#list index\n",
        "fruits=[\"apple\", \"banana\", \"cherry\"]\n",
        "fruits[0][3],fruits[1],fruits[2]\n"
      ]
    },
    {
      "cell_type": "code",
      "source": [
        "#changing list itms\n",
        "fruits=[\"apple\",\"banana\", \"cherry\"]\n",
        "fruits[1]=\"mango\"\n",
        "print(fruits)\n"
      ],
      "metadata": {
        "colab": {
          "base_uri": "https://localhost:8080/"
        },
        "id": "90RLHwhDftv4",
        "outputId": "09ae01c2-ce0d-4a3a-e8b1-aca194f1d64e"
      },
      "execution_count": null,
      "outputs": [
        {
          "output_type": "stream",
          "name": "stdout",
          "text": [
            "['apple', 'mango', 'cherry']\n"
          ]
        }
      ]
    },
    {
      "cell_type": "code",
      "source": [
        "#list slicing\n",
        "numbers=[0,1,2,3,4,5,6,7,8,9]\n",
        "print(numbers[1:4])\n",
        "print(numbers[0:9:2])"
      ],
      "metadata": {
        "colab": {
          "base_uri": "https://localhost:8080/"
        },
        "id": "0wQuz3NenWid",
        "outputId": "339d4102-e423-4486-8005-c82de6f75a23"
      },
      "execution_count": null,
      "outputs": [
        {
          "output_type": "stream",
          "name": "stdout",
          "text": [
            "[1, 2, 3]\n",
            "[0, 2, 4, 6, 8]\n"
          ]
        }
      ]
    },
    {
      "cell_type": "code",
      "source": [
        "fruits=[\"apple\",\"banana\",\"cherry\"] # Corrected typo \"chery\" to \"cherry\"\n",
        "beginning_letter = 'b' # You can change this letter to search for different fruits\n",
        "\n",
        "for fruit in fruits:\n",
        "  if fruit.startswith(beginning_letter):\n",
        "    print(fruit)\n",
        "  else:\n",
        "    print(\"not found\")"
      ],
      "metadata": {
        "colab": {
          "base_uri": "https://localhost:8080/"
        },
        "id": "MM88OFYKCBAX",
        "outputId": "3b609641-2509-4aac-98b0-9fb3aa0066b3"
      },
      "execution_count": null,
      "outputs": [
        {
          "output_type": "stream",
          "name": "stdout",
          "text": [
            "not found\n",
            "banana\n",
            "not found\n"
          ]
        }
      ]
    },
    {
      "cell_type": "code",
      "source": [
        "fruits=[\"apple\",\"banana\",\"cherry\"]\n",
        "for i in fruits:\n",
        "  if i[0]==\"b\":\n",
        "    print(i)\n",
        "  else:\n",
        "    print(\"not found\")\n"
      ],
      "metadata": {
        "colab": {
          "base_uri": "https://localhost:8080/"
        },
        "id": "845J9JRaKRgd",
        "outputId": "d54c02fc-96a8-4bcb-d533-73c966402a55"
      },
      "execution_count": null,
      "outputs": [
        {
          "output_type": "stream",
          "name": "stdout",
          "text": [
            "not found\n",
            "banana\n",
            "not found\n"
          ]
        }
      ]
    },
    {
      "cell_type": "code",
      "source": [
        "marks_inter=[\"90\",\"80\",\"76\",\"67\",\"57\",\"88\",\"99\",\"58\",\"49\",\"50\",\"Cc\",\"Aa\",\"Bb\",\"Bb\",\"Dd\",\"78\",\"69\",\"88\",\"97\",\"100\"]\n",
        "for i in marks_inter:\n",
        "  if i[0]==\"9\":\n",
        "    print(\"exelent\", i)\n",
        "  elif i[0]==\"1\":\n",
        "    print(\"grade S\")\n",
        "  elif i[0]==\"A\":\n",
        "    print(\"good grade\")\n",
        "  else:\n",
        "    print(\"improve\")"
      ],
      "metadata": {
        "colab": {
          "base_uri": "https://localhost:8080/"
        },
        "id": "ZnT7GqCSgcAY",
        "outputId": "e700c4c9-d735-480a-dff8-a2adf2caf149"
      },
      "execution_count": 49,
      "outputs": [
        {
          "output_type": "stream",
          "name": "stdout",
          "text": [
            "exelent 90\n",
            "improve\n",
            "improve\n",
            "improve\n",
            "improve\n",
            "improve\n",
            "exelent 99\n",
            "improve\n",
            "improve\n",
            "improve\n",
            "improve\n",
            "good grade\n",
            "improve\n",
            "improve\n",
            "improve\n",
            "improve\n",
            "improve\n",
            "improve\n",
            "exelent 97\n",
            "grade S\n"
          ]
        }
      ]
    }
  ]
}