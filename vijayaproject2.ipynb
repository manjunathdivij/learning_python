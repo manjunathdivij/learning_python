{
  "nbformat": 4,
  "nbformat_minor": 0,
  "metadata": {
    "colab": {
      "provenance": [],
      "authorship_tag": "ABX9TyNmAmFOftyO+bUPaGqWLXk2",
      "include_colab_link": true
    },
    "kernelspec": {
      "name": "python3",
      "display_name": "Python 3"
    },
    "language_info": {
      "name": "python"
    }
  },
  "cells": [
    {
      "cell_type": "markdown",
      "metadata": {
        "id": "view-in-github",
        "colab_type": "text"
      },
      "source": [
        "<a href=\"https://colab.research.google.com/github/manjunathdivij/python-projects-/blob/main/vijayaproject2.ipynb\" target=\"_parent\"><img src=\"https://colab.research.google.com/assets/colab-badge.svg\" alt=\"Open In Colab\"/></a>"
      ]
    },
    {
      "cell_type": "code",
      "execution_count": 1,
      "metadata": {
        "colab": {
          "base_uri": "https://localhost:8080/"
        },
        "id": "TBkvAlgbvjK9",
        "outputId": "070be7de-f0ed-47a6-9ef3-cb71ffce0452"
      },
      "outputs": [
        {
          "output_type": "stream",
          "name": "stdout",
          "text": [
            "The total is: 5050\n"
          ]
        }
      ],
      "source": [
        "# Project 2: Sum of numbers from 1 to 100\n",
        "\n",
        "total = 0\n",
        "for i in range(1, 101):\n",
        "    total += i\n",
        "\n",
        "print(\"The total is:\", total)\n"
      ]
    },
    {
      "cell_type": "code",
      "source": [
        "# Project 2: Sum of numbers from 1 to 100\n",
        "i=1\n",
        "sum=0\n",
        "while i<=100:\n",
        "  sum+=i\n",
        "  i+=1\n",
        "print(\"sum of numbers from 1 to 100 : \", sum)"
      ],
      "metadata": {
        "colab": {
          "base_uri": "https://localhost:8080/"
        },
        "id": "Eu5hS4NyzLEO",
        "outputId": "3056e7c0-41a7-46d0-f492-5d8b987bce29"
      },
      "execution_count": 2,
      "outputs": [
        {
          "output_type": "stream",
          "name": "stdout",
          "text": [
            "sum of numbers from 1 to 100 :  5050\n"
          ]
        }
      ]
    }
  ]
}