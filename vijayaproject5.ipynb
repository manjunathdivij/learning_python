{
  "nbformat": 4,
  "nbformat_minor": 0,
  "metadata": {
    "colab": {
      "provenance": [],
      "authorship_tag": "ABX9TyNJlAR3sMmUoakZnuVtQr1G",
      "include_colab_link": true
    },
    "kernelspec": {
      "name": "python3",
      "display_name": "Python 3"
    },
    "language_info": {
      "name": "python"
    }
  },
  "cells": [
    {
      "cell_type": "markdown",
      "metadata": {
        "id": "view-in-github",
        "colab_type": "text"
      },
      "source": [
        "<a href=\"https://colab.research.google.com/github/manjunathdivij/learning_python/blob/main/vijayaproject5.ipynb\" target=\"_parent\"><img src=\"https://colab.research.google.com/assets/colab-badge.svg\" alt=\"Open In Colab\"/></a>"
      ]
    },
    {
      "cell_type": "code",
      "execution_count": null,
      "metadata": {
        "colab": {
          "base_uri": "https://localhost:8080/"
        },
        "id": "UGOOlEMRzSIA",
        "outputId": "74968b65-bc4d-4aa3-aa0f-69b35950a22a"
      },
      "outputs": [
        {
          "output_type": "stream",
          "name": "stdout",
          "text": [
            "{'name': 'ammu', 'age': 25, 'grade': 'a'}\n",
            "ammu\n",
            "25\n",
            "a\n",
            "b\n",
            "{'name': 'ammu', 'age': 25, 'grade': 'b'}\n",
            "{'name': 'dhanushwi', 'age': 20, 'grade': 'S'}\n"
          ]
        }
      ],
      "source": [
        "#dictionary in python\n",
        "student={\n",
        "    \"name\": \"ammu\",\n",
        "    \"age\": 25,\n",
        "    \"grade\": \"a\"\n",
        "}\n",
        "print(student)\n",
        "print(student[\"name\"])\n",
        "print(student[\"age\"])\n",
        "print(student[\"grade\"])\n",
        "student[\"grade\"]=\"b\"\n",
        "print(student[\"grade\"])\n",
        "print(student)\n",
        "student[\"name\"]=\"dhanushwi\"\n",
        "student[\"age\"]=20\n",
        "student[\"grade\"]=\"S\"\n",
        "print(student)"
      ]
    },
    {
      "cell_type": "code",
      "source": [
        "student_1= {\n",
        "    \"name\":\"divij\",\n",
        "    \"age\":25,\n",
        "    \"grade\":\"A+\"\n",
        "}\n",
        "print(student_1[\"name\"])\n",
        "print(student_1.get(\"grade\"))\n",
        "print(student_1.get(\"marks\",\"not found\"))\n",
        "print(student_1.get(\"age\"))\n"
      ],
      "metadata": {
        "colab": {
          "base_uri": "https://localhost:8080/"
        },
        "id": "Krv_bP5GFiK2",
        "outputId": "e3b0f0c9-dfa8-4974-b3f0-1a7d7fe14ac0"
      },
      "execution_count": null,
      "outputs": [
        {
          "output_type": "stream",
          "name": "stdout",
          "text": [
            "divij\n",
            "A+\n",
            "not found\n",
            "25\n"
          ]
        }
      ]
    },
    {
      "cell_type": "code",
      "source": [
        "student_1= {\n",
        "    \"name\":\"divij\",\n",
        "    \"age\":25,\n",
        "    \"grade\":\"A+\"\n",
        "}\n",
        "student_1[\"city\"]=\"mumbai\"\n",
        "student_1[\"age\"]=21\n",
        "print(student_1)\n",
        "student_1[\"country\"]=\"india\"\n",
        "student_1[\"grade\"]=\"exlent\"\n",
        "print(student_1)\n",
        "student_1[\"name\"]=\"raji\"\n",
        "print(student_1)"
      ],
      "metadata": {
        "colab": {
          "base_uri": "https://localhost:8080/"
        },
        "id": "QR17i9xXc6LT",
        "outputId": "f48cef30-a00b-4f6d-ada7-eee022ec3d3c"
      },
      "execution_count": null,
      "outputs": [
        {
          "output_type": "stream",
          "name": "stdout",
          "text": [
            "{'name': 'divij', 'age': 21, 'grade': 'A+', 'city': 'mumbai'}\n",
            "{'name': 'divij', 'age': 21, 'grade': 'exlent', 'city': 'mumbai', 'country': 'india'}\n",
            "{'name': 'raji', 'age': 21, 'grade': 'exlent', 'city': 'mumbai', 'country': 'india'}\n"
          ]
        }
      ]
    },
    {
      "cell_type": "code",
      "source": [
        "#for loop-(dictionary)\n",
        "student = {\"name\": \"Anjali\", \"age\": 21, \"city\": \"Mumbai\"}\n",
        "\n",
        "# Keys\n",
        "for k in student:\n",
        "    print(k)\n",
        "\n",
        "# Values\n",
        "for v in student.values():\n",
        "    print(v)\n",
        "\n",
        "# Key-Value Pairs\n",
        "for k, v in student.items():\n",
        "    print(k, \":\", v)\n"
      ],
      "metadata": {
        "colab": {
          "base_uri": "https://localhost:8080/"
        },
        "id": "wQorm2sE3pBX",
        "outputId": "8738bb98-2898-442c-e49e-907975a9af7f"
      },
      "execution_count": null,
      "outputs": [
        {
          "output_type": "stream",
          "name": "stdout",
          "text": [
            "name\n",
            "age\n",
            "city\n",
            "Anjali\n",
            "21\n",
            "Mumbai\n",
            "name : Anjali\n",
            "age : 21\n",
            "city : Mumbai\n"
          ]
        }
      ]
    },
    {
      "cell_type": "code",
      "source": [
        "#dictinary\n",
        "person = dict(name=\"viji\", age=24, friend=\"divi\", sister=\"dhanu\" )\n",
        "print(person)\n"
      ],
      "metadata": {
        "colab": {
          "base_uri": "https://localhost:8080/"
        },
        "id": "e8Vs1j3E4heV",
        "outputId": "06891003-607e-4228-a325-bfc5d274d583"
      },
      "execution_count": null,
      "outputs": [
        {
          "output_type": "stream",
          "name": "stdout",
          "text": [
            "{'name': 'viji', 'age': 24, 'friend': 'divi', 'sister': 'dhanu'}\n"
          ]
        }
      ]
    },
    {
      "cell_type": "code",
      "source": [
        "#copy-dictionary\n",
        "student={'name': 'viji', 'age': 24, 'friend': 'divi', 'sister': 'dhanu'}\n",
        "new_dic=student.copy()\n",
        "print(new_dic)"
      ],
      "metadata": {
        "colab": {
          "base_uri": "https://localhost:8080/"
        },
        "id": "YT3mDzZO6Qdh",
        "outputId": "b4d047eb-ea87-45d2-ae2f-44dad37ef247"
      },
      "execution_count": null,
      "outputs": [
        {
          "output_type": "stream",
          "name": "stdout",
          "text": [
            "{'name': 'viji', 'age': 24, 'friend': 'divi', 'sister': 'dhanu'}\n"
          ]
        }
      ]
    },
    {
      "cell_type": "code",
      "source": [
        "#merged dictionary\n",
        "d1 = {\"a\": 1, \"a1\": 2, \"name\":\"pure\"}\n",
        "d2 = {\"b\": 3, \"c\": 4}\n",
        "\n",
        "merged = d1 | d2\n",
        "print(merged)"
      ],
      "metadata": {
        "colab": {
          "base_uri": "https://localhost:8080/"
        },
        "id": "tCCxT7M47Mck",
        "outputId": "19b138ac-a753-40b1-8902-1b4580576600"
      },
      "execution_count": null,
      "outputs": [
        {
          "output_type": "stream",
          "name": "stdout",
          "text": [
            "{'a': 1, 'a1': 2, 'name': 'pure', 'b': 3, 'c': 4}\n"
          ]
        }
      ]
    },
    {
      "cell_type": "code",
      "source": [
        "user = {\"name\": \"Rahul\"}\n",
        "user.setdefault(\"age\", 25)\n",
        "print(user)"
      ],
      "metadata": {
        "colab": {
          "base_uri": "https://localhost:8080/"
        },
        "id": "T5UFap3785Xd",
        "outputId": "04790583-92e7-410f-dc8c-3c152c5b0869"
      },
      "execution_count": null,
      "outputs": [
        {
          "output_type": "stream",
          "name": "stdout",
          "text": [
            "{'name': 'Rahul', 'age': 25}\n"
          ]
        }
      ]
    },
    {
      "cell_type": "code",
      "source": [
        "item = \"apple\"\n",
        "qty = 2\n",
        "items = {\"apple\": 30, \"banana\": 10}\n",
        "print(f\"{item} x {qty} = {items[item] * qty}\")"
      ],
      "metadata": {
        "colab": {
          "base_uri": "https://localhost:8080/"
        },
        "id": "NWfA2nBiTrZx",
        "outputId": "445bbe49-c0ec-4d8a-8b21-3791849967fd"
      },
      "execution_count": null,
      "outputs": [
        {
          "output_type": "stream",
          "name": "stdout",
          "text": [
            "apple x 2 = 60\n"
          ]
        }
      ]
    },
    {
      "cell_type": "code",
      "source": [
        "#removing items\n",
        "student_1={\n",
        "    \"name\":\"raji\",\n",
        "    \"age\":28,\n",
        "    \"grade\":\"A+\",\n",
        "    \"city\":\"mumbai\"\n",
        "}\n",
        "student_1.pop(\"city\")\n",
        "print(student_1)\n"
      ],
      "metadata": {
        "colab": {
          "base_uri": "https://localhost:8080/"
        },
        "id": "P599F_p-mOoB",
        "outputId": "0ec0bc57-6ccf-40eb-99f1-1c841c31b6dd"
      },
      "execution_count": null,
      "outputs": [
        {
          "output_type": "stream",
          "name": "stdout",
          "text": [
            "{'name': 'raji', 'age': 28, 'grade': 'A+'}\n"
          ]
        }
      ]
    },
    {
      "cell_type": "code",
      "source": [
        "#looping through a dictionary\n",
        "student_1={\n",
        "    \"name\":\"raji\",\n",
        "    \"age\":28,\n",
        "    \"grade\":\"A+\",\n",
        "    \"city\":\"mumbai\"\n",
        "}\n",
        "for key, value in student_1.items():\n",
        "  print(key,value)"
      ],
      "metadata": {
        "colab": {
          "base_uri": "https://localhost:8080/"
        },
        "id": "YlpiPmBhw_pF",
        "outputId": "e87a2630-109b-46a5-a0e5-01d6e96dfe89"
      },
      "execution_count": null,
      "outputs": [
        {
          "output_type": "stream",
          "name": "stdout",
          "text": [
            "name raji\n",
            "age 28\n",
            "grade A+\n",
            "city mumbai\n"
          ]
        }
      ]
    },
    {
      "cell_type": "code",
      "source": [
        "#check if key exists\n",
        "student_1={\n",
        "    \"name\":\"raji\",\n",
        "    \"age\":28,\n",
        "    \"grade\":\"A+\",\n",
        "    \"city\":\"mumbai\",\n",
        "    \"grope\":\"sara\"\n",
        "}\n",
        "if \"grope\" in student_1:\n",
        "  print(\"grope exists\")\n",
        "else:\n",
        "  print(\"not exists\" )"
      ],
      "metadata": {
        "colab": {
          "base_uri": "https://localhost:8080/"
        },
        "id": "ddnIVjOk1zXT",
        "outputId": "5b05578e-7312-47d5-d302-f7d6a9a394bd"
      },
      "execution_count": null,
      "outputs": [
        {
          "output_type": "stream",
          "name": "stdout",
          "text": [
            "grope exists\n"
          ]
        }
      ]
    },
    {
      "cell_type": "code",
      "source": [
        "#dictionary lenth\n",
        "student_1={\n",
        "    \"name\":\"raji\",\n",
        "    \"age\":28,\n",
        "    \"grade\":\"A+\",\n",
        "    \"city\":\"mumbai\",\n",
        "    \"grope\":\"sara\"\n",
        "}\n",
        "print(len(student_1))"
      ],
      "metadata": {
        "colab": {
          "base_uri": "https://localhost:8080/"
        },
        "id": "7MIfRTWf5Plh",
        "outputId": "c8b6f4c0-2f5b-409e-c1d6-6eb8e9a417e4"
      },
      "execution_count": null,
      "outputs": [
        {
          "output_type": "stream",
          "name": "stdout",
          "text": [
            "5\n"
          ]
        }
      ]
    },
    {
      "cell_type": "code",
      "source": [
        "person = dict(name=\"Charlie\", age=30)\n",
        "print(person)"
      ],
      "metadata": {
        "colab": {
          "base_uri": "https://localhost:8080/"
        },
        "id": "nLCUqapGvO-l",
        "outputId": "80a14433-9f10-404c-caee-b3b8d7021556"
      },
      "execution_count": 2,
      "outputs": [
        {
          "output_type": "stream",
          "name": "stdout",
          "text": [
            "{'name': 'Charlie', 'age': 30}\n"
          ]
        }
      ]
    },
    {
      "cell_type": "code",
      "source": [
        "student_1={\n",
        "    \"name\":\"raji\",\n",
        "    \"age\":28,\n",
        "    \"grade\":\"A+\",\n",
        "    \"city\":\"mumbai\",\n",
        "    \"grope\":\"sara\"\n",
        "}\n",
        "\n",
        "copy_dict = student_1.copy()\n",
        "print(copy_dict)\n",
        "copy_2 = student_1.copy()\n",
        "print(copy_2)\n",
        "copy_3 = dict(student_1)\n",
        "print(copy_3)\n"
      ],
      "metadata": {
        "colab": {
          "base_uri": "https://localhost:8080/"
        },
        "id": "fOiY5PghypK5",
        "outputId": "7a0b2b8b-5c1d-45ec-fc5d-be5fdd0f5517"
      },
      "execution_count": 5,
      "outputs": [
        {
          "output_type": "stream",
          "name": "stdout",
          "text": [
            "{'name': 'raji', 'age': 28, 'grade': 'A+', 'city': 'mumbai', 'grope': 'sara'}\n",
            "{'name': 'raji', 'age': 28, 'grade': 'A+', 'city': 'mumbai', 'grope': 'sara'}\n",
            "{'name': 'raji', 'age': 28, 'grade': 'A+', 'city': 'mumbai', 'grope': 'sara'}\n"
          ]
        }
      ]
    },
    {
      "cell_type": "code",
      "source": [
        "d1 = {\"a\": 1, \"b\": 2}\n",
        "d2 = {\"b\": 3, \"c\": 4}\n",
        "\n",
        "merged = d1 | d2\n",
        "print(merged)\n",
        "dict_1 = {\"a\":3,\"rani\":8}\n",
        "dict_2 = {\"rani\":\"ruja\",\"e\":6}\n",
        "dil_2 = dict_1 | dict_2\n",
        "print(dil_2)\n",
        "dil_2.setdefault(\"gender\", \"female\")\n",
        "print(dil_2)\n",
        "\n",
        "dil_2[\"ravi\"] = \"ruhal\"\n",
        "print(dil_2)"
      ],
      "metadata": {
        "colab": {
          "base_uri": "https://localhost:8080/"
        },
        "id": "dbXzVIHs1ViE",
        "outputId": "11026995-6e05-47a9-fdf8-531253d395bf"
      },
      "execution_count": 10,
      "outputs": [
        {
          "output_type": "stream",
          "name": "stdout",
          "text": [
            "{'a': 1, 'b': 3, 'c': 4}\n",
            "{'a': 3, 'rani': 'ruja', 'e': 6}\n",
            "{'a': 3, 'rani': 'ruja', 'e': 6, 'gender': 'female'}\n",
            "{'a': 3, 'rani': 'ruja', 'e': 6, 'gender': 'female', 'ravi': 'ruhal'}\n"
          ]
        }
      ]
    },
    {
      "cell_type": "code",
      "source": [
        "studants = [\"raj\", \"mani\", \"murthy\"]\n",
        "default_grade = \"A+\"\n",
        "grade_dict = dict.fromkeys(studants, default_grade)\n",
        "print(grade_dict)\n"
      ],
      "metadata": {
        "colab": {
          "base_uri": "https://localhost:8080/"
        },
        "id": "Uhd0ZREI-BTE",
        "outputId": "094caef7-ce2e-4f09-e74a-f79dbf13c24c"
      },
      "execution_count": 11,
      "outputs": [
        {
          "output_type": "stream",
          "name": "stdout",
          "text": [
            "{'raj': 'A+', 'mani': 'A+', 'murthy': 'A+'}\n"
          ]
        }
      ]
    },
    {
      "cell_type": "code",
      "source": [
        "#funtions\n",
        "def fruits_name(a=\"apple\",b=\"chery\",c=5):\n",
        "  s=a+b,\n",
        "  t=a*c,\n",
        "  u=b*c\n",
        "  return s,t,u\n",
        "\n",
        "\n",
        "m=fruits_name()\n",
        "r=fruits_name(\"graps\",\"banana\",4)\n",
        "e=fruits_name(\"orange\",\"mango\",6)\n",
        "print(m,r,e)\n",
        "print(m)\n",
        "print(r)\n",
        "print(e)"
      ],
      "metadata": {
        "colab": {
          "base_uri": "https://localhost:8080/"
        },
        "id": "__QGWuIQIVPC",
        "outputId": "01fe3b33-2b67-45a4-8262-11e3771e3a1a"
      },
      "execution_count": 17,
      "outputs": [
        {
          "output_type": "stream",
          "name": "stdout",
          "text": [
            "(('applechery',), ('appleappleappleappleapple',), 'cherycherycherycherychery') (('grapsbanana',), ('grapsgrapsgrapsgraps',), 'bananabananabananabanana') (('orangemango',), ('orangeorangeorangeorangeorangeorange',), 'mangomangomangomangomangomango')\n",
            "(('applechery',), ('appleappleappleappleapple',), 'cherycherycherycherychery')\n",
            "(('grapsbanana',), ('grapsgrapsgrapsgraps',), 'bananabananabananabanana')\n",
            "(('orangemango',), ('orangeorangeorangeorangeorangeorange',), 'mangomangomangomangomangomango')\n"
          ]
        }
      ]
    },
    {
      "cell_type": "code",
      "source": [
        "def show(*args, **kwargs):\n",
        "    print(\"Args:\", args)\n",
        "    print(\"Kwargs:\", kwargs)\n",
        "\n",
        "a=show(1, 2, 3, name=\"Vijaya\", age=25)\n",
        "print(a)"
      ],
      "metadata": {
        "colab": {
          "base_uri": "https://localhost:8080/"
        },
        "id": "7owXSeKSSM2V",
        "outputId": "427cb4a6-c509-4ed1-c33e-6a779635972e"
      },
      "execution_count": 18,
      "outputs": [
        {
          "output_type": "stream",
          "name": "stdout",
          "text": [
            "Args: (1, 2, 3)\n",
            "Kwargs: {'name': 'Vijaya', 'age': 25}\n",
            "None\n"
          ]
        }
      ]
    },
    {
      "cell_type": "code",
      "source": [
        "nums = [1, 2, 3, 4, 10, 20, 25]\n",
        "\n",
        "def result_1(num,y):\n",
        "  s= list(map(lambda x: x**y, num))\n",
        "  return s\n",
        "\n",
        "n=result_1(nums,y=5)\n",
        "m=result_1(nums,y=3)\n",
        "o=result_1(nums,y=4)\n",
        "print(n)\n",
        "print(m)\n",
        "print(o)\n",
        "\n"
      ],
      "metadata": {
        "colab": {
          "base_uri": "https://localhost:8080/"
        },
        "id": "Hbjqc4loSoB7",
        "outputId": "ec01a5b5-71c3-4737-e08e-74eb7e3bf68e"
      },
      "execution_count": 27,
      "outputs": [
        {
          "output_type": "stream",
          "name": "stdout",
          "text": [
            "[1, 32, 243, 1024, 100000, 3200000, 9765625]\n",
            "[1, 8, 27, 64, 1000, 8000, 15625]\n",
            "[1, 16, 81, 256, 10000, 160000, 390625]\n"
          ]
        }
      ]
    },
    {
      "cell_type": "code",
      "source": [
        "s=lambda x,y: x**y\n",
        "n=s(2,9)\n",
        "m=s(4,6)\n",
        "o=s(7,9)\n",
        "print(n)\n",
        "print(m)\n",
        "print(o)\n",
        ""
      ],
      "metadata": {
        "colab": {
          "base_uri": "https://localhost:8080/"
        },
        "id": "6gAQkpGlZoto",
        "outputId": "7074b35d-e344-4645-aabc-5407ae41840d"
      },
      "execution_count": 32,
      "outputs": [
        {
          "output_type": "stream",
          "name": "stdout",
          "text": [
            "512\n",
            "4096\n",
            "40353607\n"
          ]
        }
      ]
    }
  ]
}