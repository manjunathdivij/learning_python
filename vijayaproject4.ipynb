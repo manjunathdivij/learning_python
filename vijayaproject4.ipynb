{
  "nbformat": 4,
  "nbformat_minor": 0,
  "metadata": {
    "colab": {
      "provenance": [],
      "authorship_tag": "ABX9TyN06JGG9qHA6r5tVzJHrkHq",
      "include_colab_link": true
    },
    "kernelspec": {
      "name": "python3",
      "display_name": "Python 3"
    },
    "language_info": {
      "name": "python"
    }
  },
  "cells": [
    {
      "cell_type": "markdown",
      "metadata": {
        "id": "view-in-github",
        "colab_type": "text"
      },
      "source": [
        "<a href=\"https://colab.research.google.com/github/manjunathdivij/learning_python/blob/main/vijayaproject4.ipynb\" target=\"_parent\"><img src=\"https://colab.research.google.com/assets/colab-badge.svg\" alt=\"Open In Colab\"/></a>"
      ]
    },
    {
      "cell_type": "code",
      "source": [
        "#for loop\n",
        "fruits=[\"apple\",\"banana\",\"chery\"]\n",
        "for i in fruits:\n",
        "  print(i)"
      ],
      "metadata": {
        "colab": {
          "base_uri": "https://localhost:8080/"
        },
        "id": "R1u6FVXUxWJ6",
        "outputId": "993a828a-123c-4430-e4fa-0fe19e4a1ceb"
      },
      "execution_count": 111,
      "outputs": [
        {
          "output_type": "stream",
          "name": "stdout",
          "text": [
            "apple\n",
            "banana\n",
            "chery\n"
          ]
        }
      ]
    },
    {
      "cell_type": "code",
      "source": [
        "#using index with range() and len()\n",
        "fruits=[\"apple\",\"banana\",\"chery\"]\n",
        "for i in range(len(fruits)):\n",
        "  print(f\"index{i}={fruits[i]}\")"
      ],
      "metadata": {
        "colab": {
          "base_uri": "https://localhost:8080/"
        },
        "id": "V79hWSfsyIUa",
        "outputId": "d61d939e-65a4-4d1a-a921-6e8ae4e74731"
      },
      "execution_count": 7,
      "outputs": [
        {
          "output_type": "stream",
          "name": "stdout",
          "text": [
            "index0=apple\n",
            "index1=banana\n",
            "index2=chery\n"
          ]
        }
      ]
    },
    {
      "cell_type": "code",
      "source": [
        "#while loop\n",
        "fruits=[\"apple\",\"banana\",\"chery\"]\n",
        "i=0\n",
        "while i<len(fruits):\n",
        "  print(fruits[i])\n",
        "  i+=1"
      ],
      "metadata": {
        "colab": {
          "base_uri": "https://localhost:8080/"
        },
        "id": "pDsHP5GdzLaQ",
        "outputId": "c51c65c3-fd49-4583-908f-6dd586ca785a"
      },
      "execution_count": 110,
      "outputs": [
        {
          "output_type": "stream",
          "name": "stdout",
          "text": [
            "apple\n",
            "banana\n",
            "chery\n"
          ]
        }
      ]
    },
    {
      "cell_type": "code",
      "source": [
        "#enumerate\n",
        "marks=[90,79,88,68,57,49,88,85,77,93,98]\n",
        "for index,mark in enumerate(marks):\n",
        "  print(index,mark)"
      ],
      "metadata": {
        "colab": {
          "base_uri": "https://localhost:8080/"
        },
        "id": "sPrFPdwq-z_F",
        "outputId": "cdebd345-53ff-4441-fa7e-b842b1eb6007"
      },
      "execution_count": 16,
      "outputs": [
        {
          "output_type": "stream",
          "name": "stdout",
          "text": [
            "0 90\n",
            "1 79\n",
            "2 88\n",
            "3 68\n",
            "4 57\n",
            "5 49\n",
            "6 88\n",
            "7 85\n",
            "8 77\n",
            "9 93\n",
            "10 98\n"
          ]
        }
      ]
    },
    {
      "cell_type": "code",
      "source": [
        "#enumerate\n",
        "marks=[90,79,88,68,57,49,88,85,77,93,98]\n",
        "for i in enumerate(marks):\n",
        "  print(i)\n",
        ""
      ],
      "metadata": {
        "colab": {
          "base_uri": "https://localhost:8080/"
        },
        "id": "D0zX-uKdHVBi",
        "outputId": "84f36da5-9e77-4b64-a6c2-3d8d338a1bb5"
      },
      "execution_count": 23,
      "outputs": [
        {
          "output_type": "stream",
          "name": "stdout",
          "text": [
            "(0, 90)\n",
            "(1, 79)\n",
            "(2, 88)\n",
            "(3, 68)\n",
            "(4, 57)\n",
            "(5, 49)\n",
            "(6, 88)\n",
            "(7, 85)\n",
            "(8, 77)\n",
            "(9, 93)\n",
            "(10, 98)\n"
          ]
        }
      ]
    },
    {
      "cell_type": "code",
      "source": [
        "#list comprehension(short way to create lists)\n",
        "fruits=[\"apple\",\"banana\",\"chery\"]\n",
        "new_list=[x for x in fruits if \"b\" in x]\n",
        "print(fruits)\n",
        "print(new_list)"
      ],
      "metadata": {
        "colab": {
          "base_uri": "https://localhost:8080/"
        },
        "id": "B1jnzEtOdhKi",
        "outputId": "b1782222-4560-477a-b732-906f316dc6a0"
      },
      "execution_count": 40,
      "outputs": [
        {
          "output_type": "stream",
          "name": "stdout",
          "text": [
            "['apple', 'banana', 'chery']\n",
            "['banana']\n"
          ]
        }
      ]
    },
    {
      "cell_type": "code",
      "source": [
        "\n",
        "squares=[x*x for x in range(20)]\n",
        "\n",
        "print(squares)\n",
        "\n"
      ],
      "metadata": {
        "colab": {
          "base_uri": "https://localhost:8080/"
        },
        "id": "3PCg5njciJ-0",
        "outputId": "4ea4f955-eac2-4f64-899d-535e7d8438bb"
      },
      "execution_count": 45,
      "outputs": [
        {
          "output_type": "stream",
          "name": "stdout",
          "text": [
            "[0, 1, 4, 9, 16, 25, 36, 49, 64, 81, 100, 121, 144, 169, 196, 225, 256, 289, 324, 361]\n"
          ]
        }
      ]
    },
    {
      "cell_type": "code",
      "source": [
        "evens=[x for x in range(20)if x%10==0 or x%2==0]\n",
        "print(evens)"
      ],
      "metadata": {
        "colab": {
          "base_uri": "https://localhost:8080/"
        },
        "id": "wmmtuXV55k1U",
        "outputId": "5702e312-78bc-480f-e5fa-b4751cdcc24f"
      },
      "execution_count": 108,
      "outputs": [
        {
          "output_type": "stream",
          "name": "stdout",
          "text": [
            "[0, 2, 4, 6, 8, 10, 12, 14, 16, 18]\n"
          ]
        }
      ]
    },
    {
      "cell_type": "code",
      "source": [
        "#check if item exists\n",
        "n=[\"sita\",\"rani\",\"dhanu\"]\n",
        "if \"dhanu\" in n:\n",
        "  print(\"Yes in the n\")\n",
        "else:\n",
        "  print(\"No in the n\" )"
      ],
      "metadata": {
        "colab": {
          "base_uri": "https://localhost:8080/"
        },
        "id": "m2DRMeslI60R",
        "outputId": "5ab3b9fa-4cac-40c9-dcb0-ec4e9d2d78b7"
      },
      "execution_count": 76,
      "outputs": [
        {
          "output_type": "stream",
          "name": "stdout",
          "text": [
            "Yes in the n\n"
          ]
        }
      ]
    },
    {
      "cell_type": "code",
      "source": [
        "#copying lists\n",
        "original=[1,2,3,4]\n",
        "copy1=original.copy()\n",
        "copy2=list(original)\n",
        "copy3=original[0:1]\n",
        "copy4=original[0:2]\n",
        "copy5=original[0:3]\n",
        "copy6=original[0:4]\n",
        "print(copy1)\n",
        "print(copy2)\n",
        "print(copy3)\n",
        "print(copy4)\n",
        "print(copy5)\n",
        "print(copy6)"
      ],
      "metadata": {
        "colab": {
          "base_uri": "https://localhost:8080/"
        },
        "id": "D3cSzVl4NIZj",
        "outputId": "31f8c0d2-c9b0-425e-ffa4-adb143958dd1"
      },
      "execution_count": 103,
      "outputs": [
        {
          "output_type": "stream",
          "name": "stdout",
          "text": [
            "[1, 2, 3, 4]\n",
            "[1, 2, 3, 4]\n",
            "[1]\n",
            "[1, 2]\n",
            "[1, 2, 3]\n",
            "[1, 2, 3, 4]\n"
          ]
        }
      ]
    },
    {
      "cell_type": "code",
      "source": [
        "#joining lists\n",
        "a=[1,2,3]\n",
        "b=[3,6,8]\n",
        "a.extend(b)\n",
        "print(a+b)\n"
      ],
      "metadata": {
        "colab": {
          "base_uri": "https://localhost:8080/"
        },
        "id": "Rc6rZzxaXJ0P",
        "outputId": "6afe1742-67d5-4423-9f4b-de9866103218"
      },
      "execution_count": 84,
      "outputs": [
        {
          "output_type": "stream",
          "name": "stdout",
          "text": [
            "[1, 2, 3, 3, 6, 8, 3, 6, 8]\n"
          ]
        }
      ]
    },
    {
      "cell_type": "code",
      "source": [
        "#nested list\n",
        "matrix=[[1,2],[3,4],[5,6],[7,8],[9,10]]\n",
        "print(matrix)\n",
        "print(matrix[0])\n",
        "print(matrix[0][1])\n",
        ""
      ],
      "metadata": {
        "colab": {
          "base_uri": "https://localhost:8080/"
        },
        "id": "HNWYixgmc1Xe",
        "outputId": "9f4fc391-33db-4d62-d24a-8ec32653f555"
      },
      "execution_count": 100,
      "outputs": [
        {
          "output_type": "stream",
          "name": "stdout",
          "text": [
            "[[1, 2], [3, 4], [5, 6], [7, 8], [9, 10]]\n",
            "[1, 2]\n",
            "2\n"
          ]
        }
      ]
    },
    {
      "cell_type": "code",
      "source": [
        "#importent  functions\n",
        "nums=[10,20,30,40,50,60]\n",
        "nums_n=[90,80,79,69,5,0,59,55]\n",
        "print(sum(nums))\n",
        "print(min(nums))\n",
        "print(max(nums))\n",
        "print(sorted(nums))\n",
        "print(sorted(nums_n))\n",
        "print(sum(nums_n))\n",
        "print(min(nums),max(nums))\n",
        "print(min(nums)+ max(nums))"
      ],
      "metadata": {
        "colab": {
          "base_uri": "https://localhost:8080/"
        },
        "id": "ie5coy5spVu9",
        "outputId": "fb24a982-d25f-4d00-a1cb-bf6f07b4dba3"
      },
      "execution_count": 101,
      "outputs": [
        {
          "output_type": "stream",
          "name": "stdout",
          "text": [
            "210\n",
            "10\n",
            "60\n",
            "[10, 20, 30, 40, 50, 60]\n",
            "[0, 5, 55, 59, 69, 79, 80, 90]\n",
            "437\n",
            "10 60\n",
            "70\n"
          ]
        }
      ]
    }
  ]
}