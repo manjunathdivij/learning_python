{
  "nbformat": 4,
  "nbformat_minor": 0,
  "metadata": {
    "colab": {
      "provenance": [],
      "authorship_tag": "ABX9TyNJq+BAcPTQwmehKpPMVa8j",
      "include_colab_link": true
    },
    "kernelspec": {
      "name": "python3",
      "display_name": "Python 3"
    },
    "language_info": {
      "name": "python"
    }
  },
  "cells": [
    {
      "cell_type": "markdown",
      "metadata": {
        "id": "view-in-github",
        "colab_type": "text"
      },
      "source": [
        "<a href=\"https://colab.research.google.com/github/manjunathdivij/python-projects-/blob/main/vijayaproject1.ipynb\" target=\"_parent\"><img src=\"https://colab.research.google.com/assets/colab-badge.svg\" alt=\"Open In Colab\"/></a>"
      ]
    },
    {
      "cell_type": "code",
      "source": [
        "#python project1:Sum of natural numbers from 1 to 100.\n",
        "i = 1\n",
        "sum = 0\n",
        "while i<= 100:\n",
        "  sum += i\n",
        "  i += 1\n",
        "  print(\"Sum of natural numbers from 1 to 100 : \", sum)"
      ],
      "metadata": {
        "id": "GXTvCH8dmJ3y",
        "colab": {
          "base_uri": "https://localhost:8080/"
        },
        "outputId": "fbc71226-8357-4807-ca12-5d906d3ba44a"
      },
      "execution_count": 2,
      "outputs": [
        {
          "output_type": "stream",
          "name": "stdout",
          "text": [
            "Sum of natural numbers from 1 to 100 :  1\n",
            "Sum of natural numbers from 1 to 100 :  3\n",
            "Sum of natural numbers from 1 to 100 :  6\n",
            "Sum of natural numbers from 1 to 100 :  10\n",
            "Sum of natural numbers from 1 to 100 :  15\n",
            "Sum of natural numbers from 1 to 100 :  21\n",
            "Sum of natural numbers from 1 to 100 :  28\n",
            "Sum of natural numbers from 1 to 100 :  36\n",
            "Sum of natural numbers from 1 to 100 :  45\n",
            "Sum of natural numbers from 1 to 100 :  55\n",
            "Sum of natural numbers from 1 to 100 :  66\n",
            "Sum of natural numbers from 1 to 100 :  78\n",
            "Sum of natural numbers from 1 to 100 :  91\n",
            "Sum of natural numbers from 1 to 100 :  105\n",
            "Sum of natural numbers from 1 to 100 :  120\n",
            "Sum of natural numbers from 1 to 100 :  136\n",
            "Sum of natural numbers from 1 to 100 :  153\n",
            "Sum of natural numbers from 1 to 100 :  171\n",
            "Sum of natural numbers from 1 to 100 :  190\n",
            "Sum of natural numbers from 1 to 100 :  210\n",
            "Sum of natural numbers from 1 to 100 :  231\n",
            "Sum of natural numbers from 1 to 100 :  253\n",
            "Sum of natural numbers from 1 to 100 :  276\n",
            "Sum of natural numbers from 1 to 100 :  300\n",
            "Sum of natural numbers from 1 to 100 :  325\n",
            "Sum of natural numbers from 1 to 100 :  351\n",
            "Sum of natural numbers from 1 to 100 :  378\n",
            "Sum of natural numbers from 1 to 100 :  406\n",
            "Sum of natural numbers from 1 to 100 :  435\n",
            "Sum of natural numbers from 1 to 100 :  465\n",
            "Sum of natural numbers from 1 to 100 :  496\n",
            "Sum of natural numbers from 1 to 100 :  528\n",
            "Sum of natural numbers from 1 to 100 :  561\n",
            "Sum of natural numbers from 1 to 100 :  595\n",
            "Sum of natural numbers from 1 to 100 :  630\n",
            "Sum of natural numbers from 1 to 100 :  666\n",
            "Sum of natural numbers from 1 to 100 :  703\n",
            "Sum of natural numbers from 1 to 100 :  741\n",
            "Sum of natural numbers from 1 to 100 :  780\n",
            "Sum of natural numbers from 1 to 100 :  820\n",
            "Sum of natural numbers from 1 to 100 :  861\n",
            "Sum of natural numbers from 1 to 100 :  903\n",
            "Sum of natural numbers from 1 to 100 :  946\n",
            "Sum of natural numbers from 1 to 100 :  990\n",
            "Sum of natural numbers from 1 to 100 :  1035\n",
            "Sum of natural numbers from 1 to 100 :  1081\n",
            "Sum of natural numbers from 1 to 100 :  1128\n",
            "Sum of natural numbers from 1 to 100 :  1176\n",
            "Sum of natural numbers from 1 to 100 :  1225\n",
            "Sum of natural numbers from 1 to 100 :  1275\n",
            "Sum of natural numbers from 1 to 100 :  1326\n",
            "Sum of natural numbers from 1 to 100 :  1378\n",
            "Sum of natural numbers from 1 to 100 :  1431\n",
            "Sum of natural numbers from 1 to 100 :  1485\n",
            "Sum of natural numbers from 1 to 100 :  1540\n",
            "Sum of natural numbers from 1 to 100 :  1596\n",
            "Sum of natural numbers from 1 to 100 :  1653\n",
            "Sum of natural numbers from 1 to 100 :  1711\n",
            "Sum of natural numbers from 1 to 100 :  1770\n",
            "Sum of natural numbers from 1 to 100 :  1830\n",
            "Sum of natural numbers from 1 to 100 :  1891\n",
            "Sum of natural numbers from 1 to 100 :  1953\n",
            "Sum of natural numbers from 1 to 100 :  2016\n",
            "Sum of natural numbers from 1 to 100 :  2080\n",
            "Sum of natural numbers from 1 to 100 :  2145\n",
            "Sum of natural numbers from 1 to 100 :  2211\n",
            "Sum of natural numbers from 1 to 100 :  2278\n",
            "Sum of natural numbers from 1 to 100 :  2346\n",
            "Sum of natural numbers from 1 to 100 :  2415\n",
            "Sum of natural numbers from 1 to 100 :  2485\n",
            "Sum of natural numbers from 1 to 100 :  2556\n",
            "Sum of natural numbers from 1 to 100 :  2628\n",
            "Sum of natural numbers from 1 to 100 :  2701\n",
            "Sum of natural numbers from 1 to 100 :  2775\n",
            "Sum of natural numbers from 1 to 100 :  2850\n",
            "Sum of natural numbers from 1 to 100 :  2926\n",
            "Sum of natural numbers from 1 to 100 :  3003\n",
            "Sum of natural numbers from 1 to 100 :  3081\n",
            "Sum of natural numbers from 1 to 100 :  3160\n",
            "Sum of natural numbers from 1 to 100 :  3240\n",
            "Sum of natural numbers from 1 to 100 :  3321\n",
            "Sum of natural numbers from 1 to 100 :  3403\n",
            "Sum of natural numbers from 1 to 100 :  3486\n",
            "Sum of natural numbers from 1 to 100 :  3570\n",
            "Sum of natural numbers from 1 to 100 :  3655\n",
            "Sum of natural numbers from 1 to 100 :  3741\n",
            "Sum of natural numbers from 1 to 100 :  3828\n",
            "Sum of natural numbers from 1 to 100 :  3916\n",
            "Sum of natural numbers from 1 to 100 :  4005\n",
            "Sum of natural numbers from 1 to 100 :  4095\n",
            "Sum of natural numbers from 1 to 100 :  4186\n",
            "Sum of natural numbers from 1 to 100 :  4278\n",
            "Sum of natural numbers from 1 to 100 :  4371\n",
            "Sum of natural numbers from 1 to 100 :  4465\n",
            "Sum of natural numbers from 1 to 100 :  4560\n",
            "Sum of natural numbers from 1 to 100 :  4656\n",
            "Sum of natural numbers from 1 to 100 :  4753\n",
            "Sum of natural numbers from 1 to 100 :  4851\n",
            "Sum of natural numbers from 1 to 100 :  4950\n",
            "Sum of natural numbers from 1 to 100 :  5050\n"
          ]
        }
      ]
    }
  ]
}