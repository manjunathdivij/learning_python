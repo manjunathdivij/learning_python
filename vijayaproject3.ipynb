{
  "nbformat": 4,
  "nbformat_minor": 0,
  "metadata": {
    "colab": {
      "provenance": [],
      "authorship_tag": "ABX9TyMidQ3/iKvC+q2vnTZxzOsx",
      "include_colab_link": true
    },
    "kernelspec": {
      "name": "python3",
      "display_name": "Python 3"
    },
    "language_info": {
      "name": "python"
    }
  },
  "cells": [
    {
      "cell_type": "markdown",
      "metadata": {
        "id": "view-in-github",
        "colab_type": "text"
      },
      "source": [
        "<a href=\"https://colab.research.google.com/github/manjunathdivij/learning_python/blob/main/vijayaproject3.ipynb\" target=\"_parent\"><img src=\"https://colab.research.google.com/assets/colab-badge.svg\" alt=\"Open In Colab\"/></a>"
      ]
    },
    {
      "cell_type": "code",
      "execution_count": 2,
      "metadata": {
        "colab": {
          "base_uri": "https://localhost:8080/"
        },
        "id": "0QFkvFBrpDIJ",
        "outputId": "919c5643-1189-4f1f-8f3f-facb4d6b8f04"
      },
      "outputs": [
        {
          "output_type": "stream",
          "name": "stdout",
          "text": [
            "Sum of numbers 1 to 100: 5050\n"
          ]
        }
      ],
      "source": [
        "#project 1 - Sum of numbers 1 to 100\n",
        "i=1\n",
        "sum=0\n",
        "while i<=100:\n",
        "  sum+=i\n",
        "  i+=1\n",
        "print(\"Sum of numbers 1 to 100:\", sum)\n"
      ]
    },
    {
      "cell_type": "code",
      "source": [
        "#project 2 - Sum of numbers 1 to 100\n",
        "i=1\n",
        "sum=0\n",
        "for i in range(1,101):\n",
        "  sum+=i\n",
        "  i+=1\n",
        "print(\"Sum of numbers 1 to 100:\", sum)\n"
      ],
      "metadata": {
        "colab": {
          "base_uri": "https://localhost:8080/"
        },
        "id": "UkNWKXbiujoI",
        "outputId": "77e9310b-16c9-4ace-a4ab-0d8cc1ffb8ae"
      },
      "execution_count": 3,
      "outputs": [
        {
          "output_type": "stream",
          "name": "stdout",
          "text": [
            "Sum of numbers 1 to 100: 5050\n"
          ]
        }
      ]
    }
  ]
}